{
 "cells": [
  {
   "cell_type": "code",
   "execution_count": 88,
   "metadata": {
    "collapsed": false
   },
   "outputs": [],
   "source": [
    "import numpy as np\n",
    "from scipy.stats import rankdata"
   ]
  },
  {
   "cell_type": "markdown",
   "metadata": {},
   "source": [
    "# MW"
   ]
  },
  {
   "cell_type": "code",
   "execution_count": 89,
   "metadata": {
    "collapsed": true
   },
   "outputs": [],
   "source": [
    "labels1 = np.array([1, 1, 1, 1, 0, 0, 0, 0])\n",
    "data1 = np.array([[0, 1, 3, 5, 10, 30, 40, 50],\n",
    "                              [1, 2, 3, 4, 4, 3, 2, 1],\n",
    "                              [0, 0, 0, 1, 0, 3, 0, 1]])"
   ]
  },
  {
   "cell_type": "code",
   "execution_count": 92,
   "metadata": {
    "collapsed": true
   },
   "outputs": [],
   "source": [
    "def mannwhitneyU(x, y):\n",
    "    n1 = len(x)\n",
    "    n2 = len(y)\n",
    "    ranked = rankdata(np.concatenate((x, y)))\n",
    "    # default: average for ties\n",
    "    rankx = ranked[0:n1]\n",
    "    Ux = n1 * n2 + (n1 * (n1 + 1)) / 2.0 - np.sum(rankx, axis=0)\n",
    "    Uy = n1 * n2 - Ux\n",
    "    U = min(Ux, Uy)\n",
    "    return U\n",
    "\n",
    "\n",
    "def mannwhitney(data, labels):\n",
    "    group0 = data[:, labels == 0]\n",
    "    group1 = data[:, labels == 1]\n",
    "    tstat = np.array([mannwhitneyU(group0[i, :], group1[i, :])\n",
    "                     for i in range(np.shape(data)[0])])\n",
    "    return tstat"
   ]
  },
  {
   "cell_type": "code",
   "execution_count": 93,
   "metadata": {
    "collapsed": false
   },
   "outputs": [
    {
     "data": {
      "text/plain": [
       "array([ 0. ,  8. ,  5.5])"
      ]
     },
     "execution_count": 93,
     "metadata": {},
     "output_type": "execute_result"
    }
   ],
   "source": [
    "mannwhitney(data1, labels)"
   ]
  },
  {
   "cell_type": "markdown",
   "metadata": {},
   "source": [
    "## KW"
   ]
  },
  {
   "cell_type": "code",
   "execution_count": 212,
   "metadata": {
    "collapsed": true
   },
   "outputs": [],
   "source": [
    "def tiecorrect(rankvals):\n",
    "    arr = np.sort(rankvals)\n",
    "    idx = np.nonzero(np.r_[True, arr[1:] != arr[:-1], True])[0]\n",
    "    cnt = np.diff(idx).astype(np.float64)\n",
    "\n",
    "    size = np.float64(arr.size)\n",
    "    return 1.0 if size < 2 else 1.0 - (cnt**3 - cnt).sum() / (size**3 - size)\n",
    "\n",
    "\n",
    "def _chk_asarray(a, axis):\n",
    "    if axis is None:\n",
    "        a = np.ravel(a)\n",
    "        outaxis = 0\n",
    "    else:\n",
    "        a = np.asarray(a)\n",
    "        outaxis = axis\n",
    "\n",
    "    if a.ndim == 0:\n",
    "        a = np.atleast_1d(a)\n",
    "\n",
    "    return a, outaxis\n",
    "\n",
    "\n",
    "def _square_of_sums(a, axis=0):\n",
    "    a, axis = _chk_asarray(a, axis)\n",
    "    s = np.sum(a, axis)\n",
    "    if not np.isscalar(s):\n",
    "        return s.astype(float) * s\n",
    "    else:\n",
    "        return float(s) * s\n",
    "\n",
    "\n",
    "def kruskalH(args):\n",
    "    num_groups = len(args)\n",
    "    if num_groups < 2:\n",
    "        raise ValueError(\"Need at least two groups in stats.kruskal()\")\n",
    "    n = np.asarray(list(map(len, args)))  # samples in each group\n",
    "    alldata = np.concatenate(args)\n",
    "    ranked = rankdata(alldata)\n",
    "    ties = tiecorrect(ranked)\n",
    "    if ties == 0:\n",
    "        raise ValueError('All numbers are identical in kruskal')\n",
    "    # Compute sum^2/n for each group and sum\n",
    "    j = np.insert(np.cumsum(n), 0, 0)\n",
    "    ssbn = 0\n",
    "    for i in range(num_groups):\n",
    "        ssbn += _square_of_sums(ranked[j[i]:j[i + 1]]) / float(n[i])\n",
    "\n",
    "    totaln = np.sum(n)\n",
    "    h = 12.0 / (totaln * (totaln + 1)) * ssbn - 3 * (totaln + 1)\n",
    "    h /= ties\n",
    "    return h\n",
    "\n",
    "\n",
    "def kruwallis(data, labels):\n",
    "    n = len(np.unique(labels))\n",
    "    allt = []\n",
    "    for cbact in range(np.shape(data)[0]):\n",
    "        group = []\n",
    "        for j in range(n):\n",
    "            group.append(data[cbact, labels == j])\n",
    "        tstat = kruskalH(group)\n",
    "        allt.append(tstat)\n",
    "    return allt"
   ]
  },
  {
   "cell_type": "code",
   "execution_count": 213,
   "metadata": {
    "collapsed": true
   },
   "outputs": [],
   "source": [
    "labels2 = np.array([2, 2, 2, 2, 1, 1, 1, 1, 0, 0, 0, 0])\n",
    "data2 = np.array([[-1, 15, 2, 4, 0, 1, 3, 5, 10, 30, 40, 50],\n",
    "                               [2, 1, 3, 4, 1, 2, 3, 4, 4, 3, 2, 1],\n",
    "                               [1, 3, 3, 0, 0, 0, 0, 1, 0, 3, 0, 1]])"
   ]
  },
  {
   "cell_type": "code",
   "execution_count": 214,
   "metadata": {
    "collapsed": false
   },
   "outputs": [
    {
     "data": {
      "text/plain": [
       "[6.5769230769230802, 0.0, 2.5462962962962981]"
      ]
     },
     "execution_count": 214,
     "metadata": {},
     "output_type": "execute_result"
    }
   ],
   "source": [
    "kruwallis(data2, labels2)"
   ]
  },
  {
   "cell_type": "markdown",
   "metadata": {},
   "source": [
    "## Pearson Correlation"
   ]
  },
  {
   "cell_type": "code",
   "execution_count": 259,
   "metadata": {
    "collapsed": true
   },
   "outputs": [],
   "source": [
    "def _sum_of_squares(a, axis=0):\n",
    "    a, axis = _chk_asarray(a, axis)\n",
    "    return np.sum(a * a, axis)\n",
    "\n",
    "\n",
    "def pearsonR(x, y):\n",
    "    mx = x.mean()\n",
    "    my = y.mean()\n",
    "    xm, ym = x - mx, y - my\n",
    "    r_num = np.add.reduce(xm * ym)\n",
    "    r_den = np.sqrt(_sum_of_squares(xm) * _sum_of_squares(ym))\n",
    "    r = r_num / r_den\n",
    "    return r\n",
    "\n",
    "\n",
    "def pearson(data, labels):\n",
    "    tstat = np.array([pearsonR(data[i, :], labels)\n",
    "                      for i in range(np.shape(data)[0])])\n",
    "    return tstat"
   ]
  },
  {
   "cell_type": "code",
   "execution_count": 260,
   "metadata": {
    "collapsed": true
   },
   "outputs": [],
   "source": [
    "labels = np.array([1, 1, 1, 1, 0, 0, 0, 0])\n",
    "data = np.array([[0, 1, 3, 5, 10, 30, 40, 50],\n",
    "                 [1, 2, 3, 4, 4, 3, 2, 1],\n",
    "                 [0, 0, 0, 1, 0, 3, 0, 1]])"
   ]
  },
  {
   "cell_type": "code",
   "execution_count": 261,
   "metadata": {
    "collapsed": false
   },
   "outputs": [
    {
     "data": {
      "text/plain": [
       "array([-0.82028714,  0.        , -0.37796447])"
      ]
     },
     "execution_count": 261,
     "metadata": {},
     "output_type": "execute_result"
    }
   ],
   "source": [
    "pearson(data, labels)"
   ]
  },
  {
   "cell_type": "code",
   "execution_count": null,
   "metadata": {
    "collapsed": true
   },
   "outputs": [],
   "source": [
    "# spearman"
   ]
  },
  {
   "cell_type": "code",
   "execution_count": 267,
   "metadata": {
    "collapsed": true
   },
   "outputs": [],
   "source": [
    "x = [1,2,3,4,5]\n",
    "y = [5,6,7,8,7]"
   ]
  },
  {
   "cell_type": "code",
   "execution_count": 279,
   "metadata": {
    "collapsed": true
   },
   "outputs": [],
   "source": [
    "def spearmanR(a, b=None, axis=0):\n",
    "    a, axisout = _chk_asarray(a, axis)\n",
    "    ar = np.apply_along_axis(rankdata,axisout,a)\n",
    "\n",
    "    br = None\n",
    "    if b is not None:\n",
    "        b, axisout = _chk_asarray(b, axis)\n",
    "        br = np.apply_along_axis(rankdata,axisout,b)\n",
    "    n = a.shape[axisout]\n",
    "    rs = np.corrcoef(ar,br,rowvar=axisout)\n",
    "    if rs.shape == (2,2):\n",
    "        return rs[1,0]\n",
    "    else:\n",
    "        return rs\n"
   ]
  },
  {
   "cell_type": "code",
   "execution_count": 280,
   "metadata": {
    "collapsed": true
   },
   "outputs": [],
   "source": [
    "def spearman(data, labels):\n",
    "    tstat = np.array([spearmanR(data[i, :], labels) for i in range(np.shape(data)[0])])\n",
    "    return tstat"
   ]
  },
  {
   "cell_type": "code",
   "execution_count": 281,
   "metadata": {
    "collapsed": true
   },
   "outputs": [],
   "source": [
    "labels = np.array([1, 1, 1, 1, 0, 0, 0, 0])\n",
    "data = np.array([[0, 1, 3, 5, 10, 30, 40, 50],\n",
    "                              [1, 2, 3, 4, 4, 3, 2, 1],\n",
    "                              [0, 0, 0, 1, 0, 3, 0, 1]])"
   ]
  },
  {
   "cell_type": "code",
   "execution_count": 282,
   "metadata": {
    "collapsed": false
   },
   "outputs": [
    {
     "data": {
      "text/plain": [
       "array([-0.87287156,  0.        , -0.31497039])"
      ]
     },
     "execution_count": 282,
     "metadata": {},
     "output_type": "execute_result"
    }
   ],
   "source": [
    "spearman(data, labels)"
   ]
  },
  {
   "cell_type": "code",
   "execution_count": null,
   "metadata": {
    "collapsed": true
   },
   "outputs": [],
   "source": []
  }
 ],
 "metadata": {
  "anaconda-cloud": {},
  "kernelspec": {
   "display_name": "Python [conda env:python3]",
   "language": "python",
   "name": "conda-env-python3-py"
  },
  "language_info": {
   "codemirror_mode": {
    "name": "ipython",
    "version": 3
   },
   "file_extension": ".py",
   "mimetype": "text/x-python",
   "name": "python",
   "nbconvert_exporter": "python",
   "pygments_lexer": "ipython3",
   "version": "3.5.2"
  }
 },
 "nbformat": 4,
 "nbformat_minor": 2
}
